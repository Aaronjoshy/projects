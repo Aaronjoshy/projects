{
 "cells": [
  {
   "cell_type": "code",
   "execution_count": 1,
   "id": "aa40d1fd-b264-48e7-b86d-3097f69ac285",
   "metadata": {},
   "outputs": [],
   "source": [
    "import pandas as pd\n",
    "import numpy as np\n",
    "from sklearn.model_selection import train_test_split\n",
    "import matplotlib.pyplot as plt\n",
    "import seaborn as sns\n"
   ]
  },
  {
   "cell_type": "markdown",
   "id": "9ab9f7cb-351b-44c1-bf29-73b9de9c2d8c",
   "metadata": {},
   "source": [
    "post etimation\n",
    "hand tracking\n",
    "object ddetection \n",
    "face detection\n",
    "face mesh\n",
    "holistic\n",
    "selfie segmentation\n",
    "hair segmentation"
   ]
  },
  {
   "cell_type": "code",
   "execution_count": 3,
   "id": "ec3ca972-4747-4e9d-87cc-1bdf3ebf920e",
   "metadata": {},
   "outputs": [],
   "source": [
    "#pip install mediapipe"
   ]
  },
  {
   "cell_type": "code",
   "execution_count": 4,
   "id": "025b75f7-b8bc-4f85-b123-71b3fc43a995",
   "metadata": {},
   "outputs": [],
   "source": [
    "import mediapipe as mp"
   ]
  },
  {
   "cell_type": "code",
   "execution_count": 5,
   "id": "eac9783e-c7ef-4e7a-8e48-0dbd3e5a880a",
   "metadata": {},
   "outputs": [],
   "source": [
    "#pip install opencv-python"
   ]
  },
  {
   "cell_type": "code",
   "execution_count": 6,
   "id": "089e16b0-55f5-40b0-9a49-7a8e46d18b9b",
   "metadata": {},
   "outputs": [],
   "source": [
    "import cv2"
   ]
  },
  {
   "cell_type": "code",
   "execution_count": 17,
   "id": "526e0ef8-507b-4ac7-89ec-6675ee37ebd3",
   "metadata": {},
   "outputs": [],
   "source": [
    "mp_face_detection = mp.solutions.face_detection\n",
    "mp_drawings = mp.solutions.drawing_utils"
   ]
  },
  {
   "cell_type": "code",
   "execution_count": 19,
   "id": "c4927099-cd2f-4450-8637-59ea333fc4cb",
   "metadata": {},
   "outputs": [
    {
     "ename": "SyntaxError",
     "evalue": "invalid syntax (1617237317.py, line 16)",
     "output_type": "error",
     "traceback": [
      "\u001b[0;36m  Cell \u001b[0;32mIn[19], line 16\u001b[0;36m\u001b[0m\n\u001b[0;31m    cv2.destroyAllWindows()face_detection = mp_face_detection.FaceDetection()\u001b[0m\n\u001b[0m                           ^\u001b[0m\n\u001b[0;31mSyntaxError\u001b[0m\u001b[0;31m:\u001b[0m invalid syntax\n"
     ]
    }
   ],
   "source": [
    "video = cv2.VideoCapture(0)\n",
    "while True:\n",
    "    suc, img = video.read()\n",
    "    if suc:  # Check if the frame was successfully read\n",
    "        img = cv2.cvtColor(img, cv2.COLOR_BGR2RGB)\n",
    "        result = face_detection.process(img)\n",
    "        img = cv2.cvtColor(img, cv2.COLOR_RGB2BGR)\n",
    "        if result.detections:\n",
    "            for det in result.detections:\n",
    "                mp_drawings.draw_detection(img, det)\n",
    "        cv2.imshow('FACE', img)\n",
    "        if cv2.waitKey(1) & 0xFF == ord('q'):\n",
    "            break\n",
    "\n",
    "video.release()\n",
    "cv2.destroyAllWindows()face_detection = mp_face_detection.FaceDetection()"
   ]
  },
  {
   "cell_type": "code",
   "execution_count": null,
   "id": "eafd4c24-3f00-474a-95ab-db546c417d3f",
   "metadata": {},
   "outputs": [],
   "source": [
    "video = cv2.VideoCapture(0)\n",
    "while True:\n",
    "    suc, img = video.read()\n",
    "    if suc:  # Check if the frame was successfully read\n",
    "        img = cv2.cvtColor(img, cv2.COLOR_BGR2RGB)\n",
    "        result = face_detection.process(img)\n",
    "        img = cv2.cvtColor(img, cv2.COLOR_RGB2BGR)\n",
    "        if result.detections:\n",
    "            for det in result.detections:\n",
    "                mp_drawings.draw_detection(img, det)\n",
    "        cv2.imshow('FACE', img)\n",
    "        if cv2.waitKey(1) & 0xFF == ord('q'):\n",
    "            break\n",
    "\n",
    "video.release()\n",
    "cv2.destroyAllWindows()"
   ]
  },
  {
   "cell_type": "code",
   "execution_count": null,
   "id": "0c2ecde3-b356-4329-a0f3-4a37b3f330c3",
   "metadata": {},
   "outputs": [],
   "source": []
  }
 ],
 "metadata": {
  "kernelspec": {
   "display_name": "Python 3 (ipykernel)",
   "language": "python",
   "name": "python3"
  },
  "language_info": {
   "codemirror_mode": {
    "name": "ipython",
    "version": 3
   },
   "file_extension": ".py",
   "mimetype": "text/x-python",
   "name": "python",
   "nbconvert_exporter": "python",
   "pygments_lexer": "ipython3",
   "version": "3.12.4"
  }
 },
 "nbformat": 4,
 "nbformat_minor": 5
}
